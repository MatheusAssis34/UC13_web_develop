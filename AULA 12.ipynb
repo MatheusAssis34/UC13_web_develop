{
 "cells": [
  {
   "cell_type": "code",
   "execution_count": null,
   "metadata": {},
   "outputs": [],
   "source": [
    "estoque = {}\n",
    "\n",
    "def adicionar_produto():\n",
    "    nome = input (\"informe o nome do produto: \")\n",
    "    quantidade = int(input(\"informe a quantidade: \"))\n",
    "    preco = float(input(\"Informe o preço unitário: \"))\n",
    "\n",
    "if nome in estoque:\n",
    "    print(\"Produto já existe no estoque.\")\n",
    "else: \n",
    "    estoque[nome] = {\"quantidade\": quantidade, \"preco\": preco}\n",
    "    print(\"Produto adicionado com sucesso.\")\n",
    "\n",
    "def atualizar_quantidade():\n",
    "    nome = input(\"Informe o nome do produto: \")\n",
    "\n",
    "    if nome in estoque:\n",
    "        quantidade = int()"
   ]
  }
 ],
 "metadata": {
  "kernelspec": {
   "display_name": "Python 3",
   "language": "python",
   "name": "python3"
  },
  "language_info": {
   "name": "python",
   "version": "3.12.4"
  }
 },
 "nbformat": 4,
 "nbformat_minor": 2
}
