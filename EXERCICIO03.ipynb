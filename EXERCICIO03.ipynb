{
 "cells": [
  {
   "cell_type": "code",
   "execution_count": 2,
   "metadata": {},
   "outputs": [
    {
     "name": "stdout",
     "output_type": "stream",
     "text": [
      "6\n",
      "2\n",
      "8\n",
      "2.0\n",
      "0\n"
     ]
    }
   ],
   "source": [
    "#Questão 01\n",
    "A = 4\n",
    "B = 2\n",
    "#Soma\n",
    "soma = (A + B)\n",
    "subtração = (A - B)\n",
    "multiplicação = (A * B)\n",
    "divisão = ( A / B)\n",
    "módulo = ( A % B)\n",
    "\n",
    "print(soma)\n",
    "print(subtração)\n",
    "print(multiplicação)\n",
    "print(divisão)\n",
    "print(módulo)"
   ]
  },
  {
   "cell_type": "code",
   "execution_count": 4,
   "metadata": {},
   "outputs": [
    {
     "data": {
      "text/plain": [
       "False"
      ]
     },
     "execution_count": 4,
     "metadata": {},
     "output_type": "execute_result"
    }
   ],
   "source": [
    "# == é igualdade\n",
    "# != é diferença\n",
    "\n",
    "A = 20\n",
    "B = 10\n",
    "C = 10\n",
    "\n",
    "A == B\n",
    "B != C\n",
    "    "
   ]
  },
  {
   "cell_type": "code",
   "execution_count": 13,
   "metadata": {},
   "outputs": [
    {
     "name": "stdout",
     "output_type": "stream",
     "text": [
      "7\n"
     ]
    }
   ],
   "source": [
    "# += é o mesmo que \"x = x + 1\"\n",
    "\n",
    "a = 4\n",
    "\n",
    "a += 3\n",
    "\n",
    "print(a)"
   ]
  },
  {
   "cell_type": "code",
   "execution_count": 13,
   "metadata": {},
   "outputs": [
    {
     "name": "stdout",
     "output_type": "stream",
     "text": [
      "0\n",
      "5\n",
      "10\n"
     ]
    }
   ],
   "source": [
    "\n",
    "\n",
    "\n",
    "for i in range(0,12,5):\n",
    "    print(i)"
   ]
  },
  {
   "cell_type": "code",
   "execution_count": 14,
   "metadata": {},
   "outputs": [
    {
     "name": "stdout",
     "output_type": "stream",
     "text": [
      "h\n",
      "o\n",
      "j\n",
      "e\n",
      " \n",
      "é\n",
      " \n",
      "s\n",
      "a\n",
      "b\n",
      "a\n",
      "d\n",
      "o\n",
      "-\n",
      "f\n",
      "e\n",
      "i\n",
      "r\n",
      "a\n"
     ]
    }
   ],
   "source": [
    "frase = \"hoje é sabado-feira\"\n",
    "for i in frase:\n",
    "    print(i)"
   ]
  },
  {
   "cell_type": "code",
   "execution_count": null,
   "metadata": {},
   "outputs": [],
   "source": []
  }
 ],
 "metadata": {
  "kernelspec": {
   "display_name": "Python 3",
   "language": "python",
   "name": "python3"
  },
  "language_info": {
   "codemirror_mode": {
    "name": "ipython",
    "version": 3
   },
   "file_extension": ".py",
   "mimetype": "text/x-python",
   "name": "python",
   "nbconvert_exporter": "python",
   "pygments_lexer": "ipython3",
   "version": "3.12.4"
  }
 },
 "nbformat": 4,
 "nbformat_minor": 2
}
