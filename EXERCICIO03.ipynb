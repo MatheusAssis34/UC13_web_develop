{
 "cells": [
  {
   "cell_type": "code",
   "execution_count": 2,
   "metadata": {},
   "outputs": [
    {
     "name": "stdout",
     "output_type": "stream",
     "text": [
      "6\n",
      "2\n",
      "8\n",
      "2.0\n",
      "0\n"
     ]
    }
   ],
   "source": [
    "#Questão 01\n",
    "A = 4\n",
    "B = 2\n",
    "#Soma\n",
    "soma = (A + B)\n",
    "subtração = (A - B)\n",
    "multiplicação = (A * B)\n",
    "divisão = ( A / B)\n",
    "módulo = ( A % B)\n",
    "\n",
    "print(soma)\n",
    "print(subtração)\n",
    "print(multiplicação)\n",
    "print(divisão)\n",
    "print(módulo)"
   ]
  },
  {
   "cell_type": "code",
   "execution_count": 4,
   "metadata": {},
   "outputs": [
    {
     "data": {
      "text/plain": [
       "False"
      ]
     },
     "execution_count": 4,
     "metadata": {},
     "output_type": "execute_result"
    }
   ],
   "source": [
    "# == é igualdade\n",
    "# != é diferença\n",
    "\n",
    "A = 20\n",
    "B = 10\n",
    "C = 10\n",
    "\n",
    "A == B\n",
    "B != C\n",
    "    "
   ]
  },
  {
   "cell_type": "code",
   "execution_count": 13,
   "metadata": {},
   "outputs": [
    {
     "name": "stdout",
     "output_type": "stream",
     "text": [
      "7\n"
     ]
    }
   ],
   "source": [
    "# += é o mesmo que \"x = x + 1\"\n",
    "\n",
    "a = 4\n",
    "\n",
    "a += 3\n",
    "\n",
    "print(a)"
   ]
  },
  {
   "cell_type": "code",
   "execution_count": 13,
   "metadata": {},
   "outputs": [
    {
     "name": "stdout",
     "output_type": "stream",
     "text": [
      "0\n",
      "5\n",
      "10\n"
     ]
    }
   ],
   "source": [
    "\n",
    "\n",
    "\n",
    "for i in range(0,12,5):\n",
    "    print(i)"
   ]
  },
  {
   "cell_type": "code",
   "execution_count": 14,
   "metadata": {},
   "outputs": [
    {
     "name": "stdout",
     "output_type": "stream",
     "text": [
      "h\n",
      "o\n",
      "j\n",
      "e\n",
      " \n",
      "é\n",
      " \n",
      "s\n",
      "a\n",
      "b\n",
      "a\n",
      "d\n",
      "o\n",
      "-\n",
      "f\n",
      "e\n",
      "i\n",
      "r\n",
      "a\n"
     ]
    }
   ],
   "source": [
    "frase = \"hoje é sabado-feira\"\n",
    "for i in frase:\n",
    "    print(i)"
   ]
  },
  {
   "cell_type": "code",
   "execution_count": 9,
   "metadata": {},
   "outputs": [
    {
     "data": {
      "text/plain": [
       "4"
      ]
     },
     "execution_count": 9,
     "metadata": {},
     "output_type": "execute_result"
    }
   ],
   "source": [
    "x = int(input(\" digite um valor para x: \"))\n",
    "y = int(input(\" digite um valor para y: \"))\n",
    "\n",
    "def some(x,y):\n",
    "    return x+y\n",
    "\n",
    "\n",
    "some(x,y)"
   ]
  },
  {
   "cell_type": "code",
   "execution_count": null,
   "metadata": {},
   "outputs": [],
   "source": []
  },
  {
   "cell_type": "code",
   "execution_count": 21,
   "metadata": {},
   "outputs": [
    {
     "data": {
      "text/plain": [
       "20"
      ]
     },
     "execution_count": 21,
     "metadata": {},
     "output_type": "execute_result"
    }
   ],
   "source": [
    "x = int(input(\" digite um valor para x: \"))\n",
    "y = int(input(\" digite um valor para y: \"))\n",
    "\n",
    "def sub(x,y):\n",
    "    return x-y\n",
    "\n",
    "\n",
    "sub(x,y)"
   ]
  },
  {
   "cell_type": "code",
   "execution_count": 11,
   "metadata": {},
   "outputs": [
    {
     "data": {
      "text/plain": [
       "4"
      ]
     },
     "execution_count": 11,
     "metadata": {},
     "output_type": "execute_result"
    }
   ],
   "source": [
    "x = int(input(\" digite um valor para x: \"))\n",
    "y = int(input(\" digite um valor para y: \"))\n",
    "\n",
    "def mult(x,y):\n",
    "    return x*y\n",
    "\n",
    "\n",
    "mult(x,y)"
   ]
  },
  {
   "cell_type": "code",
   "execution_count": 20,
   "metadata": {},
   "outputs": [
    {
     "name": "stdout",
     "output_type": "stream",
     "text": [
      "o resultado da operação de {div} de {a} e {b} é: {calc}\n"
     ]
    }
   ],
   "source": [
    "x = int(input(\" digite um valor para x: \"))\n",
    "y = int(input(\" digite um valor para y: \"))\n",
    "\n",
    "def div(x,y):\n",
    "    return x/y\n",
    "\n",
    "\n",
    "calc = div(x,y)\n",
    "\n",
    "print('o resultado da operação de {div} de {a} e {b} é: {calc}')"
   ]
  },
  {
   "cell_type": "code",
   "execution_count": null,
   "metadata": {},
   "outputs": [
    {
     "data": {
      "text/plain": [
       "0.12"
      ]
     },
     "execution_count": 16,
     "metadata": {},
     "output_type": "execute_result"
    }
   ],
   "source": [
    "x = int(input(\" digite um valor para x: \"))\n",
    "y = int(input(\" digite um valor para y: \"))\n",
    "\n",
    "def porc(x,y):\n",
    "    return x/100 * y\n",
    "\n",
    "\n",
    "porc(x,y)"
   ]
  },
  {
   "cell_type": "code",
   "execution_count": 27,
   "metadata": {},
   "outputs": [
    {
     "ename": "SyntaxError",
     "evalue": "illegal target for annotation (328860422.py, line 4)",
     "output_type": "error",
     "traceback": [
      "\u001b[1;36m  Cell \u001b[1;32mIn[27], line 4\u001b[1;36m\u001b[0m\n\u001b[1;33m    'resultado':x+y\u001b[0m\n\u001b[1;37m    ^\u001b[0m\n\u001b[1;31mSyntaxError\u001b[0m\u001b[1;31m:\u001b[0m illegal target for annotation\n"
     ]
    }
   ],
   "source": [
    "def soma(num1,num2):\n",
    "    return num1+num2\n",
    "    'operacao':'soma',\n",
    "    'resultado':x+y\n",
    "\n",
    "\n",
    "def sub(num1,num2):\n",
    "    return num1-num2\n",
    "\n",
    "def mult(num1,num2):\n",
    "    return num1*num2\n",
    "\n",
    "def div(num1,num2):\n",
    "    return num1/num2\n",
    "\n",
    "def porc(num1,num2):\n",
    "    return num1/100 * num2\n",
    "\n",
    "x = int(input(\" digite um valor para num1: \"))\n",
    "y = int(input(\" digite um valor para num2: \"))\n",
    "\n",
    "calc = soma(x,y)\n",
    "print(f'o resultado da operação de {calc['operacao']} de {x} e {y} é: {calc['resultado]}')\n",
    "\n"
   ]
  },
  {
   "cell_type": "code",
   "execution_count": null,
   "metadata": {},
   "outputs": [
    {
     "name": "stdout",
     "output_type": "stream",
     "text": [
      "Que tipo de cálculo você quer fazer? Digite o número de acordo com o tipo de operação!\n",
      "O resultado da operação de potenciacao de 6.0 e 2.0 é 36.0 \n"
     ]
    }
   ],
   "source": [
    "import math\n",
    "print(\"Que tipo de cálculo você quer fazer? Digite o número de acordo com o tipo de operação!\")\n",
    "calculo = int(input(\"1 - Soma/n2 - Subtração/n3 - Divisão/n4 - Multiplicação/n5 - Porcentagem/n6 - Potenciação/n7 - Raiz Quadrada/n8 - Resto\"))\n",
    "num1 = float(input(\"Primeiro número: \"))\n",
    "num2 = float(input(\"Segundo número: \"))\n",
    "\n",
    "if calculo == 1:\n",
    "    def soma(num1, num2):\n",
    "        return [num1 + num2, \"soma\"]\n",
    "    resultado = soma(num1,num2)\n",
    "elif calculo == 2:\n",
    "    def subtração(num1, num2): \n",
    "        return [num1 - num2, \"subtração\"]\n",
    "    resultado = subtração(num1,num2)\n",
    "elif calculo == 3:\n",
    "    def divisão(num1, num2): \n",
    "        return [num1 / num2, \"divisão\"]\n",
    "    resultado = divisão(num1,num2)\n",
    "elif calculo == 4:\n",
    "    def multiplicacao(num1, num2): \n",
    "        return [num1 * num2, \"multiplicacao\"]\n",
    "    resultado = multiplicacao(num1,num2)\n",
    "elif calculo == 5:\n",
    "    def porcentagem(num1, num2): \n",
    "        return [num1/100 * num2, \"porcentagem\"]\n",
    "    resultado = porcentagem(num1,num2)\n",
    "elif calculo == 6:\n",
    "    def potenciacao(num1, num2): \n",
    "        return [num1 ** num2, \"potenciacao\"]\n",
    "    resultado = potenciacao(num1,num2)\n",
    "elif calculo == 7:\n",
    "    def raiz(num1, num2): \n",
    "        return [math.sqrt(num1), \"raiz quadrada\"]\n",
    "    resultado = raiz(num1)\n",
    "    num2=0\n",
    "elif calculo == 8:\n",
    "    def resto(num1, num2): \n",
    "        return [num1 % num2, \"resto\"]\n",
    "    resultado = resto(num1,num2)\n",
    "else:\n",
    "    print(\"número inserido é inválido!\")\n",
    "\n",
    "print(f\"O resultado da operação de {resultado[1]} de {num1} e {num2} é {resultado[0]} \")\n",
    "\n",
    "\n"
   ]
  },
  {
   "cell_type": "code",
   "execution_count": 2,
   "metadata": {},
   "outputs": [
    {
     "ename": "NameError",
     "evalue": "name 'soma' is not defined",
     "output_type": "error",
     "traceback": [
      "\u001b[1;31m---------------------------------------------------------------------------\u001b[0m",
      "\u001b[1;31mNameError\u001b[0m                                 Traceback (most recent call last)",
      "Cell \u001b[1;32mIn[2], line 15\u001b[0m\n\u001b[0;32m     12\u001b[0m calc \u001b[38;5;241m=\u001b[39m \u001b[38;5;241m0\u001b[39m\n\u001b[0;32m     14\u001b[0m \u001b[38;5;28;01mif\u001b[39;00m escolha \u001b[38;5;241m==\u001b[39m \u001b[38;5;241m1\u001b[39m:\n\u001b[1;32m---> 15\u001b[0m   calc \u001b[38;5;241m=\u001b[39m \u001b[43msoma\u001b[49m(a,b)\n\u001b[0;32m     16\u001b[0m \u001b[38;5;28;01melif\u001b[39;00m escolha \u001b[38;5;241m==\u001b[39m\u001b[38;5;241m2\u001b[39m:\n\u001b[0;32m     17\u001b[0m   calc \u001b[38;5;241m=\u001b[39m sub(a,b)\n",
      "\u001b[1;31mNameError\u001b[0m: name 'soma' is not defined"
     ]
    }
   ],
   "source": [
    "def opcao():\n",
    "  opcao = int(input('Digite o número referente a operação escolhida: \\n 1-soma \\n 2-subtração\\n 3-multiplicacao \\n 4- divisão\\n 5-porcentagem\\n 6-potencia\\n 7-raiz\\n 8-resto'))\n",
    "  return opcao\n",
    "\n",
    "escolha = 0\n",
    "\n",
    "while escolha<1 or escolha>3:\n",
    "   escolha = opcao()\n",
    "\n",
    "a = float(input('Digite um numero: '))\n",
    "b = float(input('Digite outro numero: '))\n",
    "calc = 0\n",
    "\n",
    "if escolha == 1:\n",
    "  calc = soma(a,b)\n",
    "elif escolha ==2:\n",
    "  calc = sub(a,b)\n",
    "elif escolha == 3:\n",
    "  calc = mult(a,b)\n",
    "else:\n",
    "  print('escolha uma opção valida')\n",
    "  \n",
    "# print(f'O resultado da operação de {calc[0]} de {a} e {b} é {calc[1]}')\n",
    "print(f'O resultado da operação de {calc['operacao']} de {a} e {b} é {calc['resultado']}')\n"
   ]
  },
  {
   "cell_type": "code",
   "execution_count": null,
   "metadata": {},
   "outputs": [
    {
     "ename": "NameError",
     "evalue": "name 'opcao' is not defined",
     "output_type": "error",
     "traceback": [
      "\u001b[1;31m---------------------------------------------------------------------------\u001b[0m",
      "\u001b[1;31mNameError\u001b[0m                                 Traceback (most recent call last)",
      "Cell \u001b[1;32mIn[1], line 1\u001b[0m\n\u001b[1;32m----> 1\u001b[0m escolha \u001b[38;5;241m=\u001b[39m \u001b[43mopcao\u001b[49m()\n\u001b[0;32m      2\u001b[0m a \u001b[38;5;241m=\u001b[39m \u001b[38;5;28mfloat\u001b[39m(\u001b[38;5;28minput\u001b[39m(\u001b[38;5;124m'\u001b[39m\u001b[38;5;124mDigite um numero: \u001b[39m\u001b[38;5;124m'\u001b[39m))\n\u001b[0;32m      3\u001b[0m b \u001b[38;5;241m=\u001b[39m \u001b[38;5;28mfloat\u001b[39m(\u001b[38;5;28minput\u001b[39m(\u001b[38;5;124m'\u001b[39m\u001b[38;5;124mDigite outro numero: \u001b[39m\u001b[38;5;124m'\u001b[39m))\n",
      "\u001b[1;31mNameError\u001b[0m: name 'opcao' is not defined"
     ]
    }
   ],
   "source": [
    "def\n",
    "escolha = opcao()\n",
    "a = float(input('Digite um numero: '))\n",
    "b = float(input('Digite outro numero: '))\n",
    "calc = 0\n",
    "\n",
    "\n",
    "match escolha:\n",
    "  case 1:\n",
    "    calc = soma(a,b)\n",
    "  case 2:\n",
    "    calc = sub(a,b)\n",
    "  case 3:\n",
    "   calc = mult(a,b)\n",
    "  case 4:\n",
    "    calc = div(a,b)\n",
    "\n",
    "print (f'O resultado da operação de {calc['operacao']} de {round(a,1)} {round(b,1)} é {round(calc['resultado'],2)}')"
   ]
  },
  {
   "cell_type": "code",
   "execution_count": null,
   "metadata": {},
   "outputs": [],
   "source": []
  }
 ],
 "metadata": {
  "kernelspec": {
   "display_name": "Python 3",
   "language": "python",
   "name": "python3"
  },
  "language_info": {
   "codemirror_mode": {
    "name": "ipython",
    "version": 3
   },
   "file_extension": ".py",
   "mimetype": "text/x-python",
   "name": "python",
   "nbconvert_exporter": "python",
   "pygments_lexer": "ipython3",
   "version": "3.12.4"
  }
 },
 "nbformat": 4,
 "nbformat_minor": 2
}
